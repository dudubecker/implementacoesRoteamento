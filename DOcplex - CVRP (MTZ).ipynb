{
 "cells": [
  {
   "cell_type": "markdown",
   "id": "0ebcdc1d",
   "metadata": {},
   "source": [
    "### CVRP - modelo em Toth e Vigo, pg. 5 e 6 (MTZ formulation)"
   ]
  },
  {
   "cell_type": "code",
   "execution_count": 1,
   "id": "567648de",
   "metadata": {},
   "outputs": [],
   "source": [
    "# Importando as bibliotecas:\n",
    "\n",
    "from docplex.mp.model import Model\n",
    "from docplex.util.environment import get_environment\n",
    "import pandas as pd\n",
    "import numpy as np\n",
    "import matplotlib.pyplot as plt\n",
    "import seaborn as sns\n",
    "np.random.seed(123)\n",
    "\n",
    "sns.set_style('whitegrid')\n",
    "\n",
    "# criando o modelo:\n",
    "\n",
    "MTZ = Model(name='MTZ')"
   ]
  },
  {
   "cell_type": "code",
   "execution_count": 2,
   "id": "6e587bbf",
   "metadata": {},
   "outputs": [],
   "source": [
    "# Rodando o programa com funções de ler instâncias e calcular distâncias entre nós:\n",
    "\n",
    "%run utils"
   ]
  },
  {
   "cell_type": "code",
   "execution_count": 3,
   "id": "977a4b31",
   "metadata": {},
   "outputs": [],
   "source": [
    "# organizando alguns parâmetros:\n",
    "\n",
    "instancia = 'P-n20-k2' # Nome da instância\n",
    "\n",
    "df, parameters = CVRP_intancia('instances\\CVRP\\P\\{}.vrp'.format(instancia))\n",
    "\n",
    "coords = df[['X','Y']] # coordenadas cartesianas de cada nó \"i\"\n",
    "\n",
    "q = df['qtd'] # demanda de cada nó \"i\"\n",
    "\n",
    "K = parameters['K'] # número de veículos\n",
    "\n",
    "Q = parameters['Q'] # capacidade dos veículos (frota homogênea)\n",
    "\n",
    "N = len(coords) # número de nós (considerando o depósito central!)\n",
    "\n",
    "c = np.matrix(matriz_2d_distancias('CVRP',coords)) # custo de transporte, do cliente \"i\" para o cliente \"j\"\n"
   ]
  },
  {
   "cell_type": "code",
   "execution_count": 4,
   "id": "91373e82",
   "metadata": {},
   "outputs": [
    {
     "data": {
      "image/png": "[encoded data removed]",
      "text/plain": [
       "<Figure size 1080x720 with 1 Axes>"
      ]
     },
     "metadata": {},
     "output_type": "display_data"
    }
   ],
   "source": [
    "# Visualizando vértices da instância:\n",
    "\n",
    "plt.figure(figsize=(15,10))\n",
    "\n",
    "plt.scatter(x=df['X'].iloc[0],y=df['Y'].iloc[0], color='green', s=400.0, alpha=0.6)\n",
    "\n",
    "plt.scatter(x=df['X'].iloc[1:len(df)-1],y=df['Y'].iloc[1:len(df)-1], alpha=1)\n",
    "\n",
    "plt.title('Vértices da instância {}'.format(instancia), fontsize=20)\n",
    "plt.yticks(fontsize=16)\n",
    "plt.xticks(fontsize=16)\n",
    "\n",
    "plt.show()"
   ]
  },
  {
   "cell_type": "markdown",
   "id": "20d545b0",
   "metadata": {},
   "source": [
    "\n",
    "#### Variáveis de decisão:"
   ]
  },
  {
   "cell_type": "code",
   "execution_count": 5,
   "id": "1e961b3e",
   "metadata": {},
   "outputs": [],
   "source": [
    "# Variável de decisão:\n",
    "\n",
    "# x_{ij}: variável binária igual a 1 se um veículo vai do nó \"i\" para o nó \"j\" (modelo de 2 índices)\n",
    "\n",
    "x = MTZ.binary_var_matrix(range(N), range(N), name='x') # 0 representa o depósito!\n",
    "\n",
    "# u_{i}: variável contínua que diz respeito à demanda acumulada (já atendida) do veículo ao visitar o nó \"i\":\n",
    "\n",
    "u = MTZ.continuous_var_list(range(N), name='u')"
   ]
  },
  {
   "cell_type": "markdown",
   "id": "bda29a65",
   "metadata": {},
   "source": [
    "## Modelo"
   ]
  },
  {
   "cell_type": "markdown",
   "id": "06ac4c47",
   "metadata": {},
   "source": [
    "\n",
    "#### Função objetivo\n",
    "\n",
    "## $$ min \\displaystyle \\sum_{(i,j) \\in A}c_{ij}x_{ij}$$"
   ]
  },
  {
   "cell_type": "code",
   "execution_count": 6,
   "id": "7fece654",
   "metadata": {},
   "outputs": [],
   "source": [
    "# Criando uma variável para a equação do custo total:\n",
    "\n",
    "custo_total = MTZ.sum(c[i,j]*x[i,j] for i in range(N) for j in range(N))"
   ]
  },
  {
   "cell_type": "code",
   "execution_count": 7,
   "id": "a0feb21e",
   "metadata": {},
   "outputs": [],
   "source": [
    "# Atribuindo a equação ao modelo\n",
    "\n",
    "MTZ.minimize(custo_total)"
   ]
  },
  {
   "cell_type": "markdown",
   "id": "23fca97e",
   "metadata": {},
   "source": [
    "#### Restrições"
   ]
  },
  {
   "cell_type": "markdown",
   "id": "5194780e",
   "metadata": {},
   "source": [
    "\n",
    "#### I)\n",
    "\n",
    "## $$ \\displaystyle \\sum_{j \\in N}x_{ij} = 1 ,  \\forall i \\in N $$\n",
    "## $$ \\displaystyle \\sum_{i \\in N}x_{ij} = 1 ,  \\forall j \\in N $$\n",
    "\n",
    "\n",
    "                    As restrições (I) asseguram que, em uma rota, cada nó é conectado a dois outros nós, isto é, seu sucessor e antecessor. Além disso, elas também asseguram que um nó é visitado apenas uma vez."
   ]
  },
  {
   "cell_type": "code",
   "execution_count": 8,
   "id": "3430f8e0",
   "metadata": {},
   "outputs": [],
   "source": [
    "for i in range(1,N):\n",
    "        \n",
    "        MTZ.add_constraint(MTZ.sum(x[i,j] for j in range(N) if i != j)==1) # considerar a partir de 1 ou a partir de 0?\n",
    "        \n",
    "        # o \"if\" tem que ir no final, nessa sintaxe!"
   ]
  },
  {
   "cell_type": "code",
   "execution_count": 9,
   "id": "cc46af07",
   "metadata": {},
   "outputs": [],
   "source": [
    "for j in range(1,N):\n",
    "\n",
    "    MTZ.add_constraint(MTZ.sum(x[i,j] for i in range(N)if i != j)==1) # considerar a partir de 1 ou a partir de 0?"
   ]
  },
  {
   "cell_type": "markdown",
   "id": "f57a8400",
   "metadata": {},
   "source": [
    "\n",
    "#### II)\n",
    "\n",
    "## $$ \\displaystyle \\sum_{j \\in N}x_{0j} = |K| $$\n",
    "\n",
    "\n",
    "                    As restrições (II) asseguram que exatamente \"K\" veículos são utilizados (o mesmo que dizer que exatamen-te \"K\" rotas são construídas)."
   ]
  },
  {
   "cell_type": "code",
   "execution_count": 10,
   "id": "353920b5",
   "metadata": {},
   "outputs": [
    {
     "data": {
      "text/plain": [
       "docplex.mp.LinearConstraint[](x_0_1+x_0_2+x_0_3+x_0_4+x_0_5+x_0_6+x_0_7+x_0_8+x_0_9+x_0_10+x_0_11+x_0_12+x_0_13+x_0_14+x_0_15+x_0_16+x_0_17+x_0_18+x_0_19,EQ,2)"
      ]
     },
     "execution_count": 10,
     "metadata": {},
     "output_type": "execute_result"
    }
   ],
   "source": [
    "MTZ.add_constraint(MTZ.sum(x[0,j] for j in range(1,N)) == K)"
   ]
  },
  {
   "cell_type": "markdown",
   "id": "432fde65",
   "metadata": {},
   "source": [
    "\n",
    "#### III)\n",
    "\n",
    "## $$ u_{i} - u_{j} + Qx_{ij} \\leq Q - q_{j}, \\forall (i,j) \\in A $$\n",
    "\n",
    "## $$ q_{i} \\leq u_{i} \\leq Q, \\forall i \\in N$$\n",
    "\n",
    "\n",
    "                    As restrições (III) asseguram que não haja sub-rotas e que as capacidades dos veículos não sejam excedi-das."
   ]
  },
  {
   "cell_type": "code",
   "execution_count": 11,
   "id": "29ed56cb",
   "metadata": {},
   "outputs": [],
   "source": [
    "for i in range(N):\n",
    "    \n",
    "    for j in range(1,N):\n",
    "        \n",
    "            if (i!=j):\n",
    "\n",
    "                MTZ.add_constraint(u[j] >= u[i] + q.loc[j+1]-(1-x[i,j])*Q)"
   ]
  },
  {
   "cell_type": "code",
   "execution_count": 12,
   "id": "7fb3c0a6",
   "metadata": {},
   "outputs": [],
   "source": [
    "for i in range(1,N):\n",
    "    MTZ.add_constraint(q.loc[i+1] <= u[i])\n",
    "    MTZ.add_constraint(u[i] <= Q)"
   ]
  },
  {
   "cell_type": "code",
   "execution_count": null,
   "id": "da84ae28",
   "metadata": {},
   "outputs": [],
   "source": [
    "# MTZ.clear_constraints()"
   ]
  },
  {
   "cell_type": "code",
   "execution_count": 13,
   "id": "bc1b930a",
   "metadata": {
    "scrolled": true
   },
   "outputs": [
    {
     "name": "stdout",
     "output_type": "stream",
     "text": [
      "Version identifier: 20.1.0.0 | 2020-11-10 | 9bedb6d68\n",
      "CPXPARAM_Read_DataCheck                          1\n",
      "CPXPARAM_RandomSeed                              202001241\n",
      "Tried aggregator 1 time.\n",
      "MIP Presolve eliminated 57 rows and 21 columns.\n",
      "Reduced MIP has 381 rows, 399 columns, and 1767 nonzeros.\n",
      "Reduced MIP has 380 binaries, 0 generals, 0 SOSs, and 0 indicators.\n",
      "Presolve time = 0.02 sec. (1.14 ticks)\n",
      "Found incumbent of value 483.769320 after 0.02 sec. (2.16 ticks)\n",
      "Probing time = 0.02 sec. (1.57 ticks)\n",
      "Tried aggregator 1 time.\n",
      "Detecting symmetries...\n",
      "Reduced MIP has 381 rows, 399 columns, and 1767 nonzeros.\n",
      "Reduced MIP has 380 binaries, 0 generals, 0 SOSs, and 0 indicators.\n",
      "Presolve time = 0.02 sec. (1.34 ticks)\n",
      "Probing time = 0.02 sec. (1.59 ticks)\n",
      "Clique table members: 209.\n",
      "MIP emphasis: balance optimality and feasibility.\n",
      "MIP search method: dynamic search.\n",
      "Parallel mode: deterministic, using up to 2 threads.\n",
      "Root relaxation solution time = 0.00 sec. (0.77 ticks)\n",
      "\n",
      "        Nodes                                         Cuts/\n",
      "   Node  Left     Objective  IInf  Best Integer    Best Bound    ItCnt     Gap\n",
      "\n",
      "*     0+    0                          483.7693        0.0000           100.00%\n",
      "      0     0      181.2722    46      483.7693      181.2722       48   62.53%\n",
      "      0     0      196.1927    34      483.7693      Cuts: 88       93   59.44%\n",
      "      0     0      196.1927    34      483.7693      Cuts: 78      109   59.44%\n",
      "      0     0      196.1927    34      483.7693      Cuts: 53      119   59.44%\n",
      "*     0+    0                          471.5617      196.1927            58.40%\n",
      "      0     0  -1.00000e+75     0      471.5617      196.1927      119   58.40%\n",
      "Detecting symmetries...\n",
      "      0     2      196.1927    34      471.5617      196.1927      119   58.40%\n",
      "Elapsed time = 0.53 sec. (60.63 ticks, tree = 0.02 MB, solutions = 2)\n",
      "*    10+   10                          241.7645      196.1927            18.85%\n",
      "*   300+  198                          235.3452      196.6392            16.45%\n",
      "*   350+  257                          234.5528      196.6392            16.16%\n",
      "   1229   880        cutoff            234.5528      199.3462    10721   15.01%\n",
      "\n",
      "Performing restart 1\n",
      "\n",
      "Repeating presolve.\n",
      "Tried aggregator 1 time.\n",
      "MIP Presolve eliminated 2 rows and 2 columns.\n",
      "Reduced MIP has 379 rows, 397 columns, and 1757 nonzeros.\n",
      "Reduced MIP has 378 binaries, 0 generals, 0 SOSs, and 0 indicators.\n",
      "Presolve time = 0.02 sec. (1.06 ticks)\n",
      "Tried aggregator 1 time.\n",
      "Reduced MIP has 379 rows, 397 columns, and 1757 nonzeros.\n",
      "Reduced MIP has 378 binaries, 0 generals, 0 SOSs, and 0 indicators.\n",
      "Presolve time = 0.03 sec. (1.34 ticks)\n",
      "Represolve time = 0.06 sec. (5.32 ticks)\n",
      "   1698     0      196.2238    43      234.5528     Cuts: 109    15436   14.71%\n",
      "   1698     0      196.4385    43      234.5528      Cuts: 42    15459   14.71%\n",
      "   1698     0      198.2185    46      234.5528      Cuts: 16    15491   14.71%\n",
      "   1698     0      199.2221    41      234.5528      Cuts: 83    15533   14.71%\n",
      "   1698     0      199.4440    34      234.5528      Cuts: 37    15569   14.71%\n",
      "   1698     0      199.4440    34      234.5528      Cuts: 44    15605   14.71%\n",
      "   1698     0      199.4504    39      234.5528      Cuts: 26    15659   14.71%\n",
      "   1698     2      199.4504    39      234.5528      200.0404    15659   14.71%\n",
      "*  1787+   68                          219.1321      200.0404             8.71%\n",
      "   1904   142      201.4087    30      219.1321      200.0404    17032    8.71%\n",
      "   2803   781      204.3942    33      219.1321      200.5145    21849    8.50%\n",
      "   3703  1507      212.8896    24      219.1321      202.1957    26667    7.73%\n",
      "   4748  2273      208.6061    37      219.1321      203.0163    32774    7.35%\n",
      "   5845  3147      210.8823    18      219.1321      203.5925    40666    7.09%\n",
      "   6727  3686      214.3770    25      219.1321      204.0809    44829    6.87%\n",
      "   7468  4229      204.8817    21      219.1321      204.3572    51190    6.74%\n",
      "  11066  6538      209.5421    18      219.1321      205.9042    72759    6.04%\n",
      "Elapsed time = 16.31 sec. (3478.15 ticks, tree = 2.46 MB, solutions = 7)\n",
      "* 12224+ 7079                          218.9538      206.2558             5.80%\n",
      "* 12268+ 7194                          217.4156      206.3121             5.11%\n",
      "  13947  7207      213.2332    28      217.4156      206.9076    98414    4.83%\n",
      "  16781  7029        cutoff            217.4156      208.4454   129725    4.13%\n",
      "  17648  6805        cutoff            217.4156      209.1069   143028    3.82%\n",
      "  20712  5553        cutoff            217.4156      210.6198   174161    3.13%\n",
      "  24363  2988        cutoff            217.4156      213.1302   209522    1.97%\n",
      "\n",
      "GUB cover cuts applied:  24\n",
      "Clique cuts applied:  7\n",
      "Cover cuts applied:  10\n",
      "Implied bound cuts applied:  31\n",
      "Flow cuts applied:  2\n",
      "Mixed integer rounding cuts applied:  54\n",
      "Zero-half cuts applied:  4\n",
      "Multi commodity flow cuts applied:  1\n",
      "Lift and project cuts applied:  5\n",
      "Gomory fractional cuts applied:  7\n",
      "\n",
      "Root node processing (before b&c):\n",
      "  Real time             =    0.55 sec. (60.47 ticks)\n",
      "Parallel b&c, 2 threads:\n",
      "  Real time             =   39.63 sec. (8803.22 ticks)\n",
      "  Sync time (average)   =    1.35 sec.\n",
      "  Wait time (average)   =    0.05 sec.\n",
      "                          ------------\n",
      "Total (root+branch&cut) =   40.17 sec. (8863.69 ticks)\n"
     ]
    },
    {
     "data": {
      "text/plain": [
       "docplex.mp.solution.SolveSolution(obj=217.416,values={x_0_1:1,x_0_4:1,x_.."
      ]
     },
     "execution_count": 13,
     "metadata": {},
     "output_type": "execute_result"
    }
   ],
   "source": [
    "MTZ.solve(log_output=True)"
   ]
  },
  {
   "cell_type": "code",
   "execution_count": 14,
   "id": "c1480dd0",
   "metadata": {},
   "outputs": [],
   "source": [
    "# colocando todas as variáveis x em uma lista:\n",
    "\n",
    "variaveis = [valor for valor in list(MTZ.solution.as_df()['name']) if 'x' in valor] \n",
    "\n",
    "# obtendo listas com os arcos da rota ótima (tratando possíveis erros)\n",
    "\n",
    "arcos = [list(map(int,variaveis[i].replace('x','').replace('_','\\n').split())) for i in range(len(variaveis))]\n",
    "\n",
    "arcos_iniciais = [arco for arco in arcos if arco[0] == 0]\n",
    "\n",
    "lista_rotas = list()\n",
    "\n",
    "for arco in arcos_iniciais:\n",
    "    \n",
    "    rota = [0]\n",
    "    \n",
    "    no_seguinte = arco[1]\n",
    "    \n",
    "    rota.append(no_seguinte)\n",
    "    \n",
    "    while no_seguinte != 0:\n",
    "        \n",
    "        no_seguinte = [arco[1] for arco in arcos if arco[0] == no_seguinte][0]\n",
    "        \n",
    "        rota.append(no_seguinte)\n",
    "    \n",
    "    lista_rotas.append(rota)"
   ]
  },
  {
   "cell_type": "code",
   "execution_count": 15,
   "id": "23db1e5e",
   "metadata": {},
   "outputs": [
    {
     "data": {
      "image/png": "[encoded data removed]",
      "text/plain": [
       "<Figure size 864x576 with 1 Axes>"
      ]
     },
     "metadata": {},
     "output_type": "display_data"
    }
   ],
   "source": [
    "# Código para o plot\n",
    "\n",
    "plt.figure(figsize=(12,8))\n",
    "\n",
    "plt.scatter(x=df['X'].iloc[0],y=df['Y'].iloc[0], color='green', s=400.0, alpha=0.6)\n",
    "\n",
    "plt.scatter(x=df['X'].iloc[1:len(df)-1],y=df['Y'].iloc[1:len(df)-1], alpha=1)\n",
    "\n",
    "\n",
    "for rota in lista_rotas:\n",
    "    \n",
    "    cor = np.random.rand(3,)\n",
    "    \n",
    "    for index in range(len(rota) - 1):\n",
    "        \n",
    "        x_i = df['X'].iloc[rota[index]]\n",
    "\n",
    "        x_j = df['X'].iloc[rota[index+1]]\n",
    "\n",
    "        y_i = df['Y'].iloc[rota[index]]\n",
    "\n",
    "        y_j = df['Y'].iloc[rota[index+1]]\n",
    "\n",
    "        plt.plot((x_i,x_j),(y_i,y_j), c=cor, linewidth=5, alpha=0.6)\n",
    "            \n",
    "\n",
    "plt.title('Rotas ótimas para a instância {}'.format(instancia), fontsize=20)\n",
    "plt.yticks(fontsize=16)\n",
    "plt.xticks(fontsize=16)\n",
    "plt.show()"
   ]
  }
 ],
 "metadata": {
  "kernelspec": {
   "display_name": "Python 3",
   "language": "python",
   "name": "python3"
  },
  "language_info": {
   "codemirror_mode": {
    "name": "ipython",
    "version": 3
   },
   "file_extension": ".py",
   "mimetype": "text/x-python",
   "name": "python",
   "nbconvert_exporter": "python",
   "pygments_lexer": "ipython3",
   "version": "3.8.8"
  }
 },
 "nbformat": 4,
 "nbformat_minor": 5
}
